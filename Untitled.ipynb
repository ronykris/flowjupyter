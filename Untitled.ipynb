{
 "cells": [
  {
   "cell_type": "code",
   "execution_count": null,
   "id": "232d57a4",
   "metadata": {},
   "outputs": [],
   "source": [
    "flow blocks get latest --network=emulator"
   ]
  },
  {
   "cell_type": "code",
   "execution_count": null,
   "id": "475369a7",
   "metadata": {},
   "outputs": [],
   "source": []
  }
 ],
 "metadata": {
  "kernelspec": {
   "display_name": "Flow",
   "language": "python",
   "name": "flowjupyter"
  }
 },
 "nbformat": 4,
 "nbformat_minor": 5
}
