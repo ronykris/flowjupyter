{
 "cells": [
  {
   "cell_type": "code",
   "execution_count": 1,
   "id": "bbadc389",
   "metadata": {},
   "outputs": [
    {
     "name": "stdout",
     "output_type": "stream",
     "text": [
      "[1] 1213201\n"
     ]
    }
   ],
   "source": [
    "flow emulator start&"
   ]
  },
  {
   "cell_type": "code",
   "execution_count": 4,
   "id": "577d14d3",
   "metadata": {},
   "outputs": [
    {
     "name": "stdout",
     "output_type": "stream",
     "text": [
      "\n",
      "❗   Version warning: a new version of Flow CLI is available (v1.3.2).\n",
      "   Read the installation guide for upgrade instructions: https://docs.onflow.org/flow-cli/install\n",
      "\n",
      "Fetching Block...⠋\n",
      "\u001b[1A\u001b[2KFetching Block...⠙\n",
      "\u001b[1A\u001b[2KFetching Block...⠹\n",
      "\u001b[1A\u001b[2KFetching Block...⠸\n",
      "\u001b[1A\u001b[2KFetching Block...⠼\n",
      "\u001b[1A\u001b[2KFetching Block...⠴\n",
      "\u001b[1A\u001b[2KFetching Block...⠦\n",
      "\u001b[1A\u001b[2K\n",
      "Block ID\t\t65ef6c570bd5152ef59542a7d95ebb5790c16b4ec85c1ab3e32ab842eb1726f1\n",
      "Parent ID\t\t99e24ed57b3b4005dda3e50e19455a5b77137c5c39eae47e8dcb4a40f46cc547\n",
      "Proposal Timestamp\t2023-07-18 06:44:02.31316732 +0000 UTC\n",
      "Proposal Timestamp Unix\t1689662642\n",
      "Height\t\t\t111149207\n",
      "Status\t\t\tSealed\n",
      "Total Seals\t\t0\n",
      "Total Collections\t0\n",
      "\n",
      "\n"
     ]
    }
   ],
   "source": [
    "flow blocks get latest --network=testnet"
   ]
  },
  {
   "cell_type": "code",
   "execution_count": 3,
   "id": "76449c60",
   "metadata": {},
   "outputs": [
    {
     "name": "stdout",
     "output_type": "stream",
     "text": [
      "\n",
      "❗   Version warning: a new version of Flow CLI is available (v1.3.2).\n",
      "   Read the installation guide for upgrade instructions: https://docs.onflow.org/flow-cli/install\n",
      "\n",
      "❌  Error while dialing: dial tcp 127.0.0.1:3569: connect: connection refused\" \n",
      "🙏 Make sure your emulator is running or connection address is correct.\n"
     ]
    },
    {
     "ename": "",
     "evalue": "1",
     "output_type": "error",
     "traceback": []
    }
   ],
   "source": [
    "flow blocks get latest"
   ]
  },
  {
   "cell_type": "code",
   "execution_count": 10,
   "id": "58ee1782",
   "metadata": {},
   "outputs": [
    {
     "name": "stdout",
     "output_type": "stream",
     "text": [
      "\n",
      "❗   Version warning: a new version of Flow CLI is available (v1.3.2).\n",
      "   Read the installation guide for upgrade instructions: https://docs.onflow.org/flow-cli/install\n",
      "\n",
      "\n",
      "Result: A.f41fd3cb80a5dce4.Profile.ReadOnly(address: 0xb5bd1bfcd1f36235, username: \"andronoop\", avatar: \"https://en.gravatar.com/userimage/237388478/8001d8afc7083b61f98164deaeaa6361?size=original\", fullname: \"Andro Noop\", email: \"andronoop09@gmail.com\", desc: \"This is Noop, AndroNoop! A full stack web3 dev. Experienced in Cadence, Solidity, Javascript, Typescript.\")\n",
      "\n",
      "\n"
     ]
    }
   ],
   "source": [
    "flow scripts execute getDetails.cdc \"0xb5bd1bfcd1f36235\" --network=testnet"
   ]
  },
  {
   "cell_type": "code",
   "execution_count": 13,
   "id": "7263a70a",
   "metadata": {},
   "outputs": [
    {
     "name": "stdout",
     "output_type": "stream",
     "text": [
      "\n",
      "❗   Version warning: a new version of Flow CLI is available (v1.3.2).\n",
      "   Read the installation guide for upgrade instructions: https://docs.onflow.org/flow-cli/install\n",
      "\n",
      "\n",
      "Result: [{0x0fb74b342aea7798: A.f41fd3cb80a5dce4.Library.Profile(username: \"afroblue\", avatar: \"https://en.gravatar.com/userimage/237388478/8001d8afc7083b61f98164deaeaa6361?size=original\", fullname: \"Afro Blue\", email: \"afroblue09@gmail.com\", desc: \"Web3 developer, Currently focusing on flow!\")}, {0xb5bd1bfcd1f36235: A.f41fd3cb80a5dce4.Library.Profile(username: \"andronoop\", avatar: \"https://en.gravatar.com/userimage/237388478/8001d8afc7083b61f98164deaeaa6361?size=original\", fullname: \"Andro Noop\", email: \"andronoop09@gmail.com\", desc: \"This is Noop, AndroNoop! A full stack web3 dev. Experienced in Cadence, Solidity, Javascript, Typescript.\")}, {0x74af5f67e31e54e4: A.f41fd3cb80a5dce4.Library.Profile(username: \"clever123\", avatar: \"https://nftavatarmaker.com/assets/main-nft.png\", fullname: \"Clever Ord\", email: \"cleverord@gmail.com\", desc: \"Hey, I'm clever ord! Welcome to my profile\")}, {0xf29693609c4d4494: A.f41fd3cb80a5dce4.Library.Profile(username: \"arsalaan100\", avatar: \"https://avatars.githubusercontent.com/u/69048139?v=4\", fullname: \"Arsalaan Alam\", email: \"arsalaanalamca@gmail.com\", desc: \"Hi, I'm Arsalaan (ars-a-laan). I'm situated in Delhi, India. I've been a programmer for the last 6 years. My technical interests include full-stack web development, machine learning, zero-knowledge proofs, web3 infrastructure & AGI Safety.\")}, {0xbb929b5de40a563c: A.f41fd3cb80a5dce4.Library.Profile(username: \"landsafe123\", avatar: \"https://nftavatarmaker.com/assets/slide/2.png\", fullname: \"Land Safe\", email: \"landsafebot@gmail.com\", desc: \"Hey, I'm Landsafe. Landsafe is my username for the web, I'm called something else irl. Btw I'm a fullstack dev with experience in solidity & cadence. I'm excited to see this platform \")}, {0xc6a01f56e1ff8764: A.f41fd3cb80a5dce4.Library.Profile(username: \"jaz\", avatar: \"https://www.flowverse.co/categories/avatar\", fullname: \"Jaz developer\", email: \"test@email.com\", desc: \"smart contracts and backend dev\")}, {0x6e73c715ebb1243a: A.f41fd3cb80a5dce4.Library.Profile(username: \"jane@123\", avatar: \"https://ord-mirror.magiceden.dev/content/79abad634fb40c446795817384e02b16feaadf6c564008c1a598395aa25bab08i0\", fullname: \"Jane Doe\", email: \"arsalaanalamphone@gmail.com\", desc: \"hey. I'm just testing!\")}]\n",
      "\n",
      "\n"
     ]
    }
   ],
   "source": [
    "flow scripts execute getAllProfiles.cdc --network=testnet"
   ]
  },
  {
   "cell_type": "code",
   "execution_count": 14,
   "id": "fd9125b8",
   "metadata": {},
   "outputs": [
    {
     "name": "stdout",
     "output_type": "stream",
     "text": [
      "\n",
      "❗   Version warning: a new version of Flow CLI is available (v1.3.2).\n",
      "   Read the installation guide for upgrade instructions: https://docs.onflow.org/flow-cli/install\n",
      "\n",
      "Fetching Block...⠋\n",
      "\u001b[1A\u001b[2KFetching Block...⠙\n",
      "\u001b[1A\u001b[2KFetching Block...⠹\n",
      "\u001b[1A\u001b[2KFetching Block...⠸\n",
      "\u001b[1A\u001b[2KFetching Block...⠼\n",
      "\u001b[1A\u001b[2KFetching Block...⠴\n",
      "\u001b[1A\u001b[2KFetching Block...⠦\n",
      "\u001b[1A\u001b[2KFetching Block...⠧\n",
      "\u001b[1A\u001b[2K\n",
      "Block ID\t\t6cc78f639503a406b7a213b1efb981c51672309f4260b8e77633ee820cadcdc7\n",
      "Parent ID\t\t608640462bde624e824621246c79e5be68e889a741558c250d070a6077ade203\n",
      "Proposal Timestamp\t2023-07-18 07:08:21.343737869 +0000 UTC\n",
      "Proposal Timestamp Unix\t1689664101\n",
      "Height\t\t\t111151532\n",
      "Status\t\t\tSealed\n",
      "Total Seals\t\t0\n",
      "Total Collections\t1\n",
      "    Collection 0:\t84b9dae00e089fe272833eec5b99d075eb0440dab4673ade8b247926903034d0\n",
      "\n",
      "\n"
     ]
    }
   ],
   "source": [
    "flow blocks get latest --network=testnet"
   ]
  },
  {
   "cell_type": "code",
   "execution_count": 15,
   "id": "ff3ff344",
   "metadata": {},
   "outputs": [
    {
     "name": "stdout",
     "output_type": "stream",
     "text": [
      "\n",
      "❗   Version warning: a new version of Flow CLI is available (v1.3.2).\n",
      "   Read the installation guide for upgrade instructions: https://docs.onflow.org/flow-cli/install\n",
      "\n",
      "\n",
      "Result: A.f41fd3cb80a5dce4.Profile.ReadOnly(address: 0xb5bd1bfcd1f36235, username: \"andronoop\", avatar: \"https://en.gravatar.com/userimage/237388478/8001d8afc7083b61f98164deaeaa6361?size=original\", fullname: \"Andro Noop\", email: \"andronoop09@gmail.com\", desc: \"This is Noop, AndroNoop! A full stack web3 dev. Experienced in Cadence, Solidity, Javascript, Typescript.\")\n",
      "\n",
      "\n"
     ]
    }
   ],
   "source": [
    "flow scripts execute getDetails.cdc \"0xb5bd1bfcd1f36235\" --network=testnet"
   ]
  },
  {
   "cell_type": "code",
   "execution_count": 16,
   "id": "e42b725b",
   "metadata": {},
   "outputs": [
    {
     "name": "stdout",
     "output_type": "stream",
     "text": [
      "\n",
      "❗   Version warning: a new version of Flow CLI is available (v1.3.2).\n",
      "   Read the installation guide for upgrade instructions: https://docs.onflow.org/flow-cli/install\n",
      "\n",
      "\n",
      "Result: [{0x0fb74b342aea7798: A.f41fd3cb80a5dce4.Library.Profile(username: \"afroblue\", avatar: \"https://en.gravatar.com/userimage/237388478/8001d8afc7083b61f98164deaeaa6361?size=original\", fullname: \"Afro Blue\", email: \"afroblue09@gmail.com\", desc: \"Web3 developer, Currently focusing on flow!\")}, {0xb5bd1bfcd1f36235: A.f41fd3cb80a5dce4.Library.Profile(username: \"andronoop\", avatar: \"https://en.gravatar.com/userimage/237388478/8001d8afc7083b61f98164deaeaa6361?size=original\", fullname: \"Andro Noop\", email: \"andronoop09@gmail.com\", desc: \"This is Noop, AndroNoop! A full stack web3 dev. Experienced in Cadence, Solidity, Javascript, Typescript.\")}, {0x74af5f67e31e54e4: A.f41fd3cb80a5dce4.Library.Profile(username: \"clever123\", avatar: \"https://nftavatarmaker.com/assets/main-nft.png\", fullname: \"Clever Ord\", email: \"cleverord@gmail.com\", desc: \"Hey, I'm clever ord! Welcome to my profile\")}, {0xf29693609c4d4494: A.f41fd3cb80a5dce4.Library.Profile(username: \"arsalaan100\", avatar: \"https://avatars.githubusercontent.com/u/69048139?v=4\", fullname: \"Arsalaan Alam\", email: \"arsalaanalamca@gmail.com\", desc: \"Hi, I'm Arsalaan (ars-a-laan). I'm situated in Delhi, India. I've been a programmer for the last 6 years. My technical interests include full-stack web development, machine learning, zero-knowledge proofs, web3 infrastructure & AGI Safety.\")}, {0xbb929b5de40a563c: A.f41fd3cb80a5dce4.Library.Profile(username: \"landsafe123\", avatar: \"https://nftavatarmaker.com/assets/slide/2.png\", fullname: \"Land Safe\", email: \"landsafebot@gmail.com\", desc: \"Hey, I'm Landsafe. Landsafe is my username for the web, I'm called something else irl. Btw I'm a fullstack dev with experience in solidity & cadence. I'm excited to see this platform \")}, {0xc6a01f56e1ff8764: A.f41fd3cb80a5dce4.Library.Profile(username: \"jaz\", avatar: \"https://www.flowverse.co/categories/avatar\", fullname: \"Jaz developer\", email: \"test@email.com\", desc: \"smart contracts and backend dev\")}, {0x6e73c715ebb1243a: A.f41fd3cb80a5dce4.Library.Profile(username: \"jane@123\", avatar: \"https://ord-mirror.magiceden.dev/content/79abad634fb40c446795817384e02b16feaadf6c564008c1a598395aa25bab08i0\", fullname: \"Jane Doe\", email: \"arsalaanalamphone@gmail.com\", desc: \"hey. I'm just testing!\")}]\n",
      "\n",
      "\n"
     ]
    }
   ],
   "source": [
    "flow scripts execute getAllProfiles.cdc --network=testnet"
   ]
  },
  {
   "cell_type": "code",
   "execution_count": null,
   "id": "c8bce7d3",
   "metadata": {},
   "outputs": [],
   "source": []
  }
 ],
 "metadata": {
  "kernelspec": {
   "display_name": "Flow",
   "language": "bash",
   "name": "flowjupyter"
  },
  "language_info": {
   "codemirror_mode": "shell",
   "file_extension": ".sh",
   "mimetype": "text/x-sh",
   "name": "bash"
  }
 },
 "nbformat": 4,
 "nbformat_minor": 5
}
